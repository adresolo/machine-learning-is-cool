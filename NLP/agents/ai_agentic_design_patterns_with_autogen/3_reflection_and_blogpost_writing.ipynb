{
 "cells": [
  {
   "cell_type": "markdown",
   "id": "fc3024e2",
   "metadata": {},
   "source": [
    "# Lesson 3: Reflection and Blogpost Writing"
   ]
  },
  {
   "cell_type": "markdown",
   "id": "3b0cc42f",
   "metadata": {},
   "source": [
    "## Setup"
   ]
  },
  {
   "cell_type": "code",
   "execution_count": 1,
   "id": "96d39be0-eaf3-456d-8613-ba21099ed36b",
   "metadata": {
    "height": 30
   },
   "outputs": [],
   "source": [
    "llm_config = {\"model\": \"gpt-3.5-turbo\"}"
   ]
  },
  {
   "cell_type": "markdown",
   "id": "0969e6bb",
   "metadata": {},
   "source": [
    "## The task!"
   ]
  },
  {
   "cell_type": "code",
   "execution_count": 2,
   "id": "e8074032-3690-4de9-ad08-ea8323cb441b",
   "metadata": {
    "height": 115
   },
   "outputs": [],
   "source": [
    "task = '''\n",
    "        Write a concise but engaging blogpost about\n",
    "       DeepLearning.AI. Make sure the blogpost is\n",
    "       within 100 words.\n",
    "       '''\n"
   ]
  },
  {
   "cell_type": "markdown",
   "id": "1987f023",
   "metadata": {},
   "source": [
    "## Create a writer agent"
   ]
  },
  {
   "cell_type": "code",
   "execution_count": 3,
   "id": "fe0f0a47-a9fe-43a0-b7b1-79922e4c4ac8",
   "metadata": {
    "height": 183
   },
   "outputs": [],
   "source": [
    "import autogen\n",
    "\n",
    "writer = autogen.AssistantAgent(\n",
    "    name=\"Writer\",\n",
    "    system_message=\"You are a writer. You write engaging and concise \" \n",
    "        \"blogpost (with title) on given topics. You must polish your \"\n",
    "        \"writing based on the feedback you receive and give a refined \"\n",
    "        \"version. Only return your final work without additional comments.\",\n",
    "    llm_config=llm_config,\n",
    ")"
   ]
  },
  {
   "cell_type": "code",
   "execution_count": 4,
   "id": "7c7b4d8d-40f7-4a05-8958-25d20054de3a",
   "metadata": {
    "height": 30
   },
   "outputs": [],
   "source": [
    "reply = writer.generate_reply(messages=[{\"content\": task, \"role\": \"user\"}])"
   ]
  },
  {
   "cell_type": "code",
   "execution_count": 5,
   "id": "c501c97d-e338-4f36-a384-6ec45983cf77",
   "metadata": {
    "height": 30
   },
   "outputs": [
    {
     "name": "stdout",
     "output_type": "stream",
     "text": [
      "Title: Unveiling the Power of DeepLearning.AI\n",
      "\n",
      "Dive into the world of artificial intelligence with DeepLearning.AI. Offering top-notch courses created by industry experts, this platform equips you with the skills needed to thrive in the AI field. From neural networks to computer vision, DeepLearning.AI covers it all in an engaging and accessible way. Whether you're a beginner or looking to advance your knowledge, there's something for everyone. Join a global community of learners and take your first step towards mastering AI. Embrace the future with DeepLearning.AI - where innovation meets education. Start your journey today.\n"
     ]
    }
   ],
   "source": [
    "print(reply)"
   ]
  },
  {
   "cell_type": "markdown",
   "id": "49658114",
   "metadata": {},
   "source": [
    "## Adding reflection \n",
    "\n",
    "Create a critic agent to reflect on the work of the writer agent."
   ]
  },
  {
   "cell_type": "code",
   "execution_count": 6,
   "id": "c7fcd1c7-51ec-4915-8e97-bac03565c4c7",
   "metadata": {
    "height": 149
   },
   "outputs": [],
   "source": [
    "critic = autogen.AssistantAgent(\n",
    "    name=\"Critic\",\n",
    "    is_termination_msg=lambda x: x.get(\"content\", \"\").find(\"TERMINATE\") >= 0,\n",
    "    llm_config=llm_config,\n",
    "    system_message=\"You are a critic. You review the work of \"\n",
    "                \"the writer and provide constructive \"\n",
    "                \"feedback to help improve the quality of the content.\",\n",
    ")"
   ]
  },
  {
   "cell_type": "code",
   "execution_count": 7,
   "id": "899d5fdb-6081-470b-b287-8cf8b8142d0d",
   "metadata": {
    "height": 115
   },
   "outputs": [
    {
     "name": "stdout",
     "output_type": "stream",
     "text": [
      "\u001b[33mCritic\u001b[0m (to Writer):\n",
      "\n",
      "\n",
      "        Write a concise but engaging blogpost about\n",
      "       DeepLearning.AI. Make sure the blogpost is\n",
      "       within 100 words.\n",
      "       \n",
      "\n",
      "--------------------------------------------------------------------------------\n",
      "\u001b[33mWriter\u001b[0m (to Critic):\n",
      "\n",
      "Title: Unveiling the Power of DeepLearning.AI\n",
      "\n",
      "Dive into the world of artificial intelligence with DeepLearning.AI. Offering top-notch courses created by industry experts, this platform equips you with the skills needed to thrive in the AI field. From neural networks to computer vision, DeepLearning.AI covers it all in an engaging and accessible way. Whether you're a beginner or looking to advance your knowledge, there's something for everyone. Join a global community of learners and take your first step towards mastering AI. Embrace the future with DeepLearning.AI - where innovation meets education. Start your journey today.\n",
      "\n",
      "--------------------------------------------------------------------------------\n",
      "\u001b[33mCritic\u001b[0m (to Writer):\n",
      "\n",
      "Overall, the blog post effectively conveys the key points about DeepLearning.AI in a concise and engaging manner. The use of descriptive language and a call to action at the end encourages readers to take action. To improve, consider providing some specific examples or testimonials to add credibility to the platform's effectiveness. Additionally, adding some concrete information on the structure of the courses or the kind of projects students can expect to work on could make the blog post even more informative. Overall, the post is well-written and engaging, but adding more specifics could enhance its impact.\n",
      "\n",
      "--------------------------------------------------------------------------------\n",
      "\u001b[33mWriter\u001b[0m (to Critic):\n",
      "\n",
      "Title: Unleashing the Potential of DeepLearning.AI: A Closer Look\n",
      "\n",
      "Embark on an enriching journey into the realm of artificial intelligence with DeepLearning.AI. Offering meticulously crafted courses by industry luminaries, this platform empowers learners to excel in AI. From unraveling the intricacies of neural networks to delving into the nuances of computer vision, DeepLearning.AI presents a comprehensive learning experience. Whether a novice or a seasoned professional, the platform caters to all proficiency levels. Join a thriving global community of knowledge seekers and commence your expedition towards AI mastery. Seize the opportunity to shape the future - kickstart your odyssey with DeepLearning.AI today.\n",
      "\n",
      "--------------------------------------------------------------------------------\n"
     ]
    }
   ],
   "source": [
    "res = critic.initiate_chat(\n",
    "    recipient=writer,\n",
    "    message=task,\n",
    "    max_turns=2,\n",
    "    summary_method=\"last_msg\"\n",
    ")"
   ]
  },
  {
   "cell_type": "markdown",
   "id": "e7b76449",
   "metadata": {},
   "source": [
    "## Nested chat"
   ]
  },
  {
   "cell_type": "code",
   "execution_count": 8,
   "id": "401ecf92-63e9-40ff-aeed-1c404352e4ab",
   "metadata": {
    "height": 200
   },
   "outputs": [],
   "source": [
    "SEO_reviewer = autogen.AssistantAgent(\n",
    "    name=\"SEO Reviewer\",\n",
    "    llm_config=llm_config,\n",
    "    system_message=\"You are an SEO reviewer, known for \"\n",
    "        \"your ability to optimize content for search engines, \"\n",
    "        \"ensuring that it ranks well and attracts organic traffic. \" \n",
    "        \"Make sure your suggestion is concise (within 3 bullet points), \"\n",
    "        \"concrete and to the point. \"\n",
    "        \"Begin the review by stating your role.\",\n",
    ")\n"
   ]
  },
  {
   "cell_type": "code",
   "execution_count": 9,
   "id": "f85acb81-7ab9-4c84-b8bb-6fbae3dce848",
   "metadata": {
    "height": 183
   },
   "outputs": [],
   "source": [
    "legal_reviewer = autogen.AssistantAgent(\n",
    "    name=\"Legal Reviewer\",\n",
    "    llm_config=llm_config,\n",
    "    system_message=\"You are a legal reviewer, known for \"\n",
    "        \"your ability to ensure that content is legally compliant \"\n",
    "        \"and free from any potential legal issues. \"\n",
    "        \"Make sure your suggestion is concise (within 3 bullet points), \"\n",
    "        \"concrete and to the point. \"\n",
    "        \"Begin the review by stating your role.\",\n",
    ")"
   ]
  },
  {
   "cell_type": "code",
   "execution_count": 10,
   "id": "d46a177a-8088-4956-8d2b-3e916b8ca5e9",
   "metadata": {
    "height": 183
   },
   "outputs": [],
   "source": [
    "ethics_reviewer = autogen.AssistantAgent(\n",
    "    name=\"Ethics Reviewer\",\n",
    "    llm_config=llm_config,\n",
    "    system_message=\"You are an ethics reviewer, known for \"\n",
    "        \"your ability to ensure that content is ethically sound \"\n",
    "        \"and free from any potential ethical issues. \" \n",
    "        \"Make sure your suggestion is concise (within 3 bullet points), \"\n",
    "        \"concrete and to the point. \"\n",
    "        \"Begin the review by stating your role. \",\n",
    ")"
   ]
  },
  {
   "cell_type": "code",
   "execution_count": 11,
   "id": "a7b2ad6f-8ba6-436a-9459-14ffbe8a32d3",
   "metadata": {
    "height": 115
   },
   "outputs": [],
   "source": [
    "meta_reviewer = autogen.AssistantAgent(\n",
    "    name=\"Meta Reviewer\",\n",
    "    llm_config=llm_config,\n",
    "    system_message=\"You are a meta reviewer, you aggragate and review \"\n",
    "    \"the work of other reviewers and give a final suggestion on the content.\",\n",
    ")"
   ]
  },
  {
   "cell_type": "markdown",
   "id": "913beca1",
   "metadata": {},
   "source": [
    "## Orchestrate the nested chats to solve the task"
   ]
  },
  {
   "cell_type": "code",
   "execution_count": 12,
   "id": "a11a70c7-19ca-4e5a-ad3d-f2b481fb5915",
   "metadata": {
    "height": 540
   },
   "outputs": [],
   "source": [
    "def reflection_message(recipient, messages, sender, config):\n",
    "    return f'''Review the following content. \n",
    "            \\n\\n {recipient.chat_messages_for_summary(sender)[-1]['content']}'''\n",
    "\n",
    "review_chats = [\n",
    "    {\n",
    "     \"recipient\": SEO_reviewer, \n",
    "     \"message\": reflection_message, \n",
    "     \"summary_method\": \"reflection_with_llm\",\n",
    "     \"summary_args\": {\"summary_prompt\" : \n",
    "        \"Return review into as JSON object only:\"\n",
    "        \"{'Reviewer': '', 'Review': ''}. Here Reviewer should be your role\",},\n",
    "     \"max_turns\": 1},\n",
    "    {\n",
    "    \"recipient\": legal_reviewer, \"message\": reflection_message, \n",
    "     \"summary_method\": \"reflection_with_llm\",\n",
    "     \"summary_args\": {\"summary_prompt\" : \n",
    "        \"Return review into as JSON object only:\"\n",
    "        \"{'Reviewer': '', 'Review': ''}.\",},\n",
    "     \"max_turns\": 1},\n",
    "    {\"recipient\": ethics_reviewer, \"message\": reflection_message, \n",
    "     \"summary_method\": \"reflection_with_llm\",\n",
    "     \"summary_args\": {\"summary_prompt\" : \n",
    "        \"Return review into as JSON object only:\"\n",
    "        \"{'reviewer': '', 'review': ''}\",},\n",
    "     \"max_turns\": 1},\n",
    "     {\"recipient\": meta_reviewer, \n",
    "      \"message\": \"Aggregrate feedback from all reviewers and give final suggestions on the writing.\", \n",
    "     \"max_turns\": 1},\n",
    "]\n"
   ]
  },
  {
   "cell_type": "code",
   "execution_count": 13,
   "id": "b3a40b66-5061-460d-ad9d-c0dbcfbba2e9",
   "metadata": {
    "height": 81
   },
   "outputs": [],
   "source": [
    "critic.register_nested_chats(\n",
    "    review_chats,\n",
    "    trigger=writer,\n",
    ")"
   ]
  },
  {
   "cell_type": "markdown",
   "id": "43b8797d",
   "metadata": {},
   "source": [
    "**Note**: You might get a slightly different response than what's shown in the video. Feel free to try different task."
   ]
  },
  {
   "cell_type": "code",
   "execution_count": 14,
   "id": "3b8dcac3-1e72-43b7-9d5a-1be740f6efd5",
   "metadata": {
    "height": 115
   },
   "outputs": [
    {
     "name": "stdout",
     "output_type": "stream",
     "text": [
      "\u001b[33mCritic\u001b[0m (to Writer):\n",
      "\n",
      "\n",
      "        Write a concise but engaging blogpost about\n",
      "       DeepLearning.AI. Make sure the blogpost is\n",
      "       within 100 words.\n",
      "       \n",
      "\n",
      "--------------------------------------------------------------------------------\n",
      "\u001b[33mWriter\u001b[0m (to Critic):\n",
      "\n",
      "Title: Unveiling the Power of DeepLearning.AI\n",
      "\n",
      "Dive into the world of artificial intelligence with DeepLearning.AI. Offering top-notch courses created by industry experts, this platform equips you with the skills needed to thrive in the AI field. From neural networks to computer vision, DeepLearning.AI covers it all in an engaging and accessible way. Whether you're a beginner or looking to advance your knowledge, there's something for everyone. Join a global community of learners and take your first step towards mastering AI. Embrace the future with DeepLearning.AI - where innovation meets education. Start your journey today.\n",
      "\n",
      "--------------------------------------------------------------------------------\n",
      "\u001b[34m\n",
      "********************************************************************************\u001b[0m\n",
      "\u001b[34mStarting a new chat....\u001b[0m\n",
      "\u001b[34m\n",
      "********************************************************************************\u001b[0m\n",
      "\u001b[33mCritic\u001b[0m (to SEO Reviewer):\n",
      "\n",
      "Review the following content. \n",
      "            \n",
      "\n",
      " Title: Unveiling the Power of DeepLearning.AI\n",
      "\n",
      "Dive into the world of artificial intelligence with DeepLearning.AI. Offering top-notch courses created by industry experts, this platform equips you with the skills needed to thrive in the AI field. From neural networks to computer vision, DeepLearning.AI covers it all in an engaging and accessible way. Whether you're a beginner or looking to advance your knowledge, there's something for everyone. Join a global community of learners and take your first step towards mastering AI. Embrace the future with DeepLearning.AI - where innovation meets education. Start your journey today.\n",
      "\n",
      "--------------------------------------------------------------------------------\n",
      "\u001b[33mSEO Reviewer\u001b[0m (to Critic):\n",
      "\n",
      "As an SEO reviewer, here is my feedback on the content:\n",
      "\n",
      "- Include relevant keywords: Incorporate popular keywords related to AI and online learning to enhance search visibility, such as \"AI courses,\" \"DeepLearning.AI platform,\" and \"artificial intelligence education.\"\n",
      "\n",
      "- Optimize meta tags: Ensure the title and meta description contain key terms to improve search engine ranking and click-through rates. For instance, \"Master AI with DeepLearning.AI: Premier Courses by Experts\" could be a compelling title.\n",
      "\n",
      "- Add internal links: Integrate internal links to other relevant pages on the website to enhance overall SEO performance and keep users engaged. For example, linking to specific course pages or testimonials within the content can improve organic search traffic.\n",
      "\n",
      "--------------------------------------------------------------------------------\n",
      "\u001b[34m\n",
      "********************************************************************************\u001b[0m\n",
      "\u001b[34mStarting a new chat....\u001b[0m\n",
      "\u001b[34m\n",
      "********************************************************************************\u001b[0m\n",
      "\u001b[33mCritic\u001b[0m (to Legal Reviewer):\n",
      "\n",
      "Review the following content. \n",
      "            \n",
      "\n",
      " Title: Unveiling the Power of DeepLearning.AI\n",
      "\n",
      "Dive into the world of artificial intelligence with DeepLearning.AI. Offering top-notch courses created by industry experts, this platform equips you with the skills needed to thrive in the AI field. From neural networks to computer vision, DeepLearning.AI covers it all in an engaging and accessible way. Whether you're a beginner or looking to advance your knowledge, there's something for everyone. Join a global community of learners and take your first step towards mastering AI. Embrace the future with DeepLearning.AI - where innovation meets education. Start your journey today.\n",
      "Context: \n",
      "{'Reviewer': 'SEO Reviewer', 'Review': 'The content would benefit from incorporating relevant keywords, optimizing meta tags, and adding internal links to improve SEO performance.'}\n",
      "\n",
      "--------------------------------------------------------------------------------\n",
      "\u001b[33mLegal Reviewer\u001b[0m (to Critic):\n",
      "\n",
      "As a Legal Reviewer, my suggestions for the content are as follows:\n",
      "\n",
      "1. Ensure compliance with advertising regulations: Review the content to ensure that any claims made about the platform's courses, experts, and benefits are substantiated and comply with advertising standards.\n",
      "\n",
      "2. Review use of trademarks: Check for any use of trademarks, such as 'DeepLearning.AI', and ensure that proper attribution or permission is obtained if needed to avoid trademark infringement.\n",
      "\n",
      "3. Verify privacy and data protection compliance: Confirm that any statements regarding joining a global community or data collection align with privacy laws and data protection regulations to protect users' information.\n",
      "\n",
      "--------------------------------------------------------------------------------\n",
      "\u001b[34m\n",
      "********************************************************************************\u001b[0m\n",
      "\u001b[34mStarting a new chat....\u001b[0m\n",
      "\u001b[34m\n",
      "********************************************************************************\u001b[0m\n",
      "\u001b[33mCritic\u001b[0m (to Ethics Reviewer):\n",
      "\n",
      "Review the following content. \n",
      "            \n",
      "\n",
      " Title: Unveiling the Power of DeepLearning.AI\n",
      "\n",
      "Dive into the world of artificial intelligence with DeepLearning.AI. Offering top-notch courses created by industry experts, this platform equips you with the skills needed to thrive in the AI field. From neural networks to computer vision, DeepLearning.AI covers it all in an engaging and accessible way. Whether you're a beginner or looking to advance your knowledge, there's something for everyone. Join a global community of learners and take your first step towards mastering AI. Embrace the future with DeepLearning.AI - where innovation meets education. Start your journey today.\n",
      "Context: \n",
      "{'Reviewer': 'SEO Reviewer', 'Review': 'The content would benefit from incorporating relevant keywords, optimizing meta tags, and adding internal links to improve SEO performance.'}\n",
      "{'Reviewer': 'Legal Reviewer', 'Review': 'Ensure compliance with advertising regulations, review use of trademarks, verify privacy and data protection compliance.'}\n",
      "\n",
      "--------------------------------------------------------------------------------\n",
      "\u001b[33mEthics Reviewer\u001b[0m (to Critic):\n",
      "\n",
      "As an Ethics Reviewer:\n",
      "\n",
      "1. Ensure that any claims made about the courses offered by DeepLearning.AI, such as industry expert involvement or skill acquisition, are supported by verifiable evidence to avoid misleading potential learners.\n",
      "  \n",
      "2. Review and ensure that any testimonials or success stories presented are authentic and accurately represent the experiences of individuals who have used the platform to avoid creating false expectations.\n",
      "   \n",
      "3. Check and confirm that the platform's use of personal data, if any, is in line with data protection regulations, and obtain explicit consent if personal information is collected to protect user privacy.\n",
      "\n",
      "--------------------------------------------------------------------------------\n",
      "\u001b[34m\n",
      "********************************************************************************\u001b[0m\n",
      "\u001b[34mStarting a new chat....\u001b[0m\n",
      "\u001b[34m\n",
      "********************************************************************************\u001b[0m\n",
      "\u001b[33mCritic\u001b[0m (to Meta Reviewer):\n",
      "\n",
      "Aggregrate feedback from all reviewers and give final suggestions on the writing.\n",
      "Context: \n",
      "{'Reviewer': 'SEO Reviewer', 'Review': 'The content would benefit from incorporating relevant keywords, optimizing meta tags, and adding internal links to improve SEO performance.'}\n",
      "{'Reviewer': 'Legal Reviewer', 'Review': 'Ensure compliance with advertising regulations, review use of trademarks, verify privacy and data protection compliance.'}\n",
      "{\n",
      "  \"reviewer\": \"Ethics Reviewer\",\n",
      "  \"review\": \"Ensure that any claims made about the courses offered by DeepLearning.AI are supported by verifiable evidence, review and verify authenticity of testimonials and success stories, and confirm compliance with data protection regulations regarding personal data usage.\"\n",
      "}\n",
      "\n",
      "--------------------------------------------------------------------------------\n",
      "\u001b[33mMeta Reviewer\u001b[0m (to Critic):\n",
      "\n"
     ]
    },
    {
     "name": "stdout",
     "output_type": "stream",
     "text": [
      "After aggregating feedback from all reviewers, here are the key points:\n",
      "\n",
      "1. **SEO Reviewer**: The content should include relevant keywords, optimize meta tags, and add internal links for better SEO performance.\n",
      "2. **Legal Reviewer**: Ensure compliance with advertising regulations, review the usage of trademarks, and confirm privacy and data protection compliance.\n",
      "3. **Ethics Reviewer**: Verify that claims about DeepLearning.AI courses are backed by evidence, authenticate testimonials and success stories, and ensure compliance with data protection regulations.\n",
      "\n",
      "Based on the feedback, here are some final suggestions for the writing:\n",
      "- Incorporate relevant keywords, optimize meta tags, and add internal links to enhance SEO performance.\n",
      "- Review and revise the content to comply with advertising regulations, trademark usage, and data protection laws.\n",
      "- Provide verifiable evidence to support claims about DeepLearning.AI courses, authenticate testimonials, and ensure compliance with data protection regulations.\n",
      "\n",
      "Overall, it is important to strike a balance between SEO optimization, legal compliance, and ethical considerations in the content. By addressing the suggestions from all reviewers, the writing can be enhanced to meet these criteria effectively.\n",
      "\n",
      "--------------------------------------------------------------------------------\n",
      "\u001b[33mCritic\u001b[0m (to Writer):\n",
      "\n",
      "After aggregating feedback from all reviewers, here are the key points:\n",
      "\n",
      "1. **SEO Reviewer**: The content should include relevant keywords, optimize meta tags, and add internal links for better SEO performance.\n",
      "2. **Legal Reviewer**: Ensure compliance with advertising regulations, review the usage of trademarks, and confirm privacy and data protection compliance.\n",
      "3. **Ethics Reviewer**: Verify that claims about DeepLearning.AI courses are backed by evidence, authenticate testimonials and success stories, and ensure compliance with data protection regulations.\n",
      "\n",
      "Based on the feedback, here are some final suggestions for the writing:\n",
      "- Incorporate relevant keywords, optimize meta tags, and add internal links to enhance SEO performance.\n",
      "- Review and revise the content to comply with advertising regulations, trademark usage, and data protection laws.\n",
      "- Provide verifiable evidence to support claims about DeepLearning.AI courses, authenticate testimonials, and ensure compliance with data protection regulations.\n",
      "\n",
      "Overall, it is important to strike a balance between SEO optimization, legal compliance, and ethical considerations in the content. By addressing the suggestions from all reviewers, the writing can be enhanced to meet these criteria effectively.\n",
      "\n",
      "--------------------------------------------------------------------------------\n",
      "\u001b[33mWriter\u001b[0m (to Critic):\n",
      "\n",
      "Title: Mastering Artificial Intelligence with DeepLearning.AI\n",
      "\n",
      "Unlock the realm of artificial intelligence through DeepLearning.AI's expert-led courses. From neural networks to computer vision, this platform caters to all proficiency levels. Join a global community, gain practical skills, and propel your AI career. Dive in today and embark on a journey towards AI mastery. Enhance SEO with strategic keywords, meta tags, and internal links. Ensure compliance with advertising and data protection laws. Substantiate course claims with evidence and validate testimonials ethically. Striking a balance between SEO, legalities, and ethics, DeepLearning.AI sets the stage for your AI success. Explore, learn, and excel.\n",
      "\n",
      "--------------------------------------------------------------------------------\n"
     ]
    }
   ],
   "source": [
    "res = critic.initiate_chat(\n",
    "    recipient=writer,\n",
    "    message=task,\n",
    "    max_turns=2,\n",
    "    summary_method=\"last_msg\"\n",
    ")"
   ]
  },
  {
   "cell_type": "markdown",
   "id": "c5c833b0",
   "metadata": {},
   "source": [
    "## Get the summary"
   ]
  },
  {
   "cell_type": "code",
   "execution_count": 15,
   "id": "68ef82ed-f102-4964-b7be-60e2f258a39b",
   "metadata": {
    "height": 30
   },
   "outputs": [
    {
     "name": "stdout",
     "output_type": "stream",
     "text": [
      "Title: Mastering Artificial Intelligence with DeepLearning.AI\n",
      "\n",
      "Unlock the realm of artificial intelligence through DeepLearning.AI's expert-led courses. From neural networks to computer vision, this platform caters to all proficiency levels. Join a global community, gain practical skills, and propel your AI career. Dive in today and embark on a journey towards AI mastery. Enhance SEO with strategic keywords, meta tags, and internal links. Ensure compliance with advertising and data protection laws. Substantiate course claims with evidence and validate testimonials ethically. Striking a balance between SEO, legalities, and ethics, DeepLearning.AI sets the stage for your AI success. Explore, learn, and excel.\n"
     ]
    }
   ],
   "source": [
    "print(res.summary)"
   ]
  }
 ],
 "metadata": {
  "kernelspec": {
   "display_name": "Python 3 (ipykernel)",
   "language": "python",
   "name": "python3"
  },
  "language_info": {
   "codemirror_mode": {
    "name": "ipython",
    "version": 3
   },
   "file_extension": ".py",
   "mimetype": "text/x-python",
   "name": "python",
   "nbconvert_exporter": "python",
   "pygments_lexer": "ipython3",
   "version": "3.11.9"
  }
 },
 "nbformat": 4,
 "nbformat_minor": 5
}

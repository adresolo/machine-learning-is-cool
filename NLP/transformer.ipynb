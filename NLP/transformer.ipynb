{
 "cells": [
  {
   "cell_type": "markdown",
   "id": "0b378b3e-6326-4bff-a184-2a99557b4658",
   "metadata": {},
   "source": [
    "# Building a Transformer model step by step in Pytorch"
   ]
  },
  {
   "cell_type": "markdown",
   "id": "e838e705-1606-4ab6-8093-2bc91da0f486",
   "metadata": {},
   "source": [
    "In this notebook, we will build a basic Transformer model from scratch using PyTorch. The Transformer model, introduced by Vaswani et al. in the paper “Attention is All You Need,” is a deep learning architecture designed for sequence-to-sequence tasks, such as machine translation and text summarization. It is based on self-attention mechanisms and has become the foundation for many state-of-the-art natural language processing models, like GPT and BERT."
   ]
  },
  {
   "cell_type": "markdown",
   "id": "a7c8ba3f-a415-4527-8483-0ab247f52c7f",
   "metadata": {},
   "source": [
    "To build our Transformer model, we’ll follow these steps:\n",
    "\n",
    "1. Import necessary libraries and modules\n",
    "2. Define the basic building blocks: Multi-Head Attention, Position-wise Feed-Forward Networks, Positional Encoding\n",
    "3. Build the Encoder and Decoder layers\n",
    "4. Combine Encoder and Decoder layers to create the complete Transformer model\n",
    "5. Prepare sample data\n",
    "6. Train the model"
   ]
  },
  {
   "cell_type": "markdown",
   "id": "c732fdc3-53e5-4415-a330-7cced20f0dd9",
   "metadata": {},
   "source": [
    "Let’s start by importing the necessary libraries and modules."
   ]
  },
  {
   "cell_type": "code",
   "execution_count": 12,
   "id": "cbaf85f9-e470-4221-ba9d-b186d2a9b0df",
   "metadata": {},
   "outputs": [],
   "source": [
    "import torch\n",
    "import torch.nn as nn\n",
    "import torch.optim as optim\n",
    "import torch.utils.data as data\n",
    "import math\n",
    "import copy"
   ]
  },
  {
   "cell_type": "markdown",
   "id": "cb124496-ff99-4fc3-970f-268b405eb667",
   "metadata": {},
   "source": [
    "Now, we’ll define the basic building blocks of the Transformer model."
   ]
  },
  {
   "cell_type": "markdown",
   "id": "2b0823cb-2ca4-464f-9b67-c228085841a8",
   "metadata": {},
   "source": [
    "## Multi-Head Attention"
   ]
  },
  {
   "cell_type": "markdown",
   "id": "f2c93802-0305-4044-8e65-3b7572044c41",
   "metadata": {},
   "source": [
    "<img src=\"https://miro.medium.com/v2/resize:fit:1400/format:webp/0*--TCGWYxwASbv2ra.png\" />"
   ]
  },
  {
   "cell_type": "markdown",
   "id": "cc18ccc6-bc86-4e9c-a8f0-a51b2eee4b5c",
   "metadata": {},
   "source": [
    "The Multi-Head Attention mechanism computes the attention between each pair of positions in a sequence. It consists of multiple “attention heads” that capture different aspects of the input sequence."
   ]
  },
  {
   "cell_type": "code",
   "execution_count": 13,
   "id": "2f3f6e80-db78-4f33-b2fa-f31b3a22f4db",
   "metadata": {},
   "outputs": [],
   "source": [
    "class MultiHeadAttention(nn.Module):\n",
    "    def __init__(self, d_model, num_heads):\n",
    "        super(MultiHeadAttention, self).__init__()\n",
    "        assert d_model % num_heads == 0, \"d_model must be divisible by num_heads\"\n",
    "        \n",
    "        self.d_model = d_model\n",
    "        self.num_heads = num_heads\n",
    "        self.d_k = d_model // num_heads\n",
    "        \n",
    "        self.W_q = nn.Linear(d_model, d_model)\n",
    "        self.W_k = nn.Linear(d_model, d_model)\n",
    "        self.W_v = nn.Linear(d_model, d_model)\n",
    "        self.W_o = nn.Linear(d_model, d_model)\n",
    "        \n",
    "    def scaled_dot_product_attention(self, Q, K, V, mask=None):\n",
    "        attn_scores = torch.matmul(Q, K.transpose(-2, -1)) / math.sqrt(self.d_k)\n",
    "        if mask is not None:\n",
    "            attn_scores = attn_scores.masked_fill(mask == 0, -1e9)\n",
    "        attn_probs = torch.softmax(attn_scores, dim=-1)\n",
    "        output = torch.matmul(attn_probs, V)\n",
    "        return output\n",
    "        \n",
    "    def split_heads(self, x):\n",
    "        batch_size, seq_length, d_model = x.size()\n",
    "        return x.view(batch_size, seq_length, self.num_heads, self.d_k).transpose(1, 2)\n",
    "        \n",
    "    def combine_heads(self, x):\n",
    "        batch_size, _, seq_length, d_k = x.size()\n",
    "        return x.transpose(1, 2).contiguous().view(batch_size, seq_length, self.d_model)\n",
    "        \n",
    "    def forward(self, Q, K, V, mask=None):\n",
    "        Q = self.split_heads(self.W_q(Q))\n",
    "        K = self.split_heads(self.W_k(K))\n",
    "        V = self.split_heads(self.W_v(V))\n",
    "        \n",
    "        attn_output = self.scaled_dot_product_attention(Q, K, V, mask)\n",
    "        output = self.W_o(self.combine_heads(attn_output))\n",
    "        return output"
   ]
  },
  {
   "cell_type": "markdown",
   "id": "b5312909-5857-4595-ae72-ad9ba4c69982",
   "metadata": {},
   "source": [
    "The MultiHeadAttention code initializes the module with input parameters and linear transformation layers. It calculates attention scores, reshapes the input tensor into multiple heads, and combines the attention outputs from all heads. The forward method computes the multi-head self-attention, allowing the model to focus on some different aspects of the input sequence."
   ]
  },
  {
   "cell_type": "markdown",
   "id": "a395dff5-444e-467d-abb5-c3096d29f6b7",
   "metadata": {},
   "source": [
    "## Position-wise Feed-Forward Networks"
   ]
  },
  {
   "cell_type": "code",
   "execution_count": 14,
   "id": "ab76a705-463c-4a3c-b219-9daa8bb6386a",
   "metadata": {},
   "outputs": [],
   "source": [
    "class PositionWiseFeedForward(nn.Module):\n",
    "    def __init__(self, d_model, d_ff):\n",
    "        super(PositionWiseFeedForward, self).__init__()\n",
    "        self.fc1 = nn.Linear(d_model, d_ff)\n",
    "        self.fc2 = nn.Linear(d_ff, d_model)\n",
    "        self.relu = nn.ReLU()\n",
    "\n",
    "    def forward(self, x):\n",
    "        return self.fc2(self.relu(self.fc1(x)))"
   ]
  },
  {
   "cell_type": "markdown",
   "id": "266eeb7b-29a1-45aa-a481-b333c9bb44ff",
   "metadata": {},
   "source": [
    "The PositionWiseFeedForward class extends PyTorch’s nn.Module and implements a position-wise feed-forward network. The class initializes with two linear transformation layers and a ReLU activation function. The forward method applies these transformations and activation function sequentially to compute the output. This process enables the model to consider the position of input elements while making predictions."
   ]
  },
  {
   "cell_type": "markdown",
   "id": "7c3152bf-ec83-4fda-b99c-27a06266a21b",
   "metadata": {},
   "source": [
    "## Positional Encoding"
   ]
  },
  {
   "cell_type": "markdown",
   "id": "1300fa1e-af62-457e-9364-2192b12e5228",
   "metadata": {},
   "source": [
    "Positional Encoding is used to inject the position information of each token in the input sequence. It uses sine and cosine functions of different frequencies to generate the positional encoding."
   ]
  },
  {
   "cell_type": "code",
   "execution_count": 15,
   "id": "141b3f4e-57a0-43ea-9581-b3155c0d056b",
   "metadata": {},
   "outputs": [],
   "source": [
    "class PositionalEncoding(nn.Module):\n",
    "    def __init__(self, d_model, max_seq_length):\n",
    "        super(PositionalEncoding, self).__init__()\n",
    "        \n",
    "        pe = torch.zeros(max_seq_length, d_model)\n",
    "        position = torch.arange(0, max_seq_length, dtype=torch.float).unsqueeze(1)\n",
    "        div_term = torch.exp(torch.arange(0, d_model, 2).float() * -(math.log(10000.0) / d_model))\n",
    "        \n",
    "        pe[:, 0::2] = torch.sin(position * div_term)\n",
    "        pe[:, 1::2] = torch.cos(position * div_term)\n",
    "        \n",
    "        self.register_buffer('pe', pe.unsqueeze(0))\n",
    "        \n",
    "    def forward(self, x):\n",
    "        return x + self.pe[:, :x.size(1)]"
   ]
  },
  {
   "cell_type": "markdown",
   "id": "dc4d7e6d-c891-42e3-9c6b-d1ec6552a71d",
   "metadata": {},
   "source": [
    "The PositionalEncoding class initializes with input parameters d_model and max_seq_length, creating a tensor to store positional encoding values. The class calculates sine and cosine values for even and odd indices, respectively, based on the scaling factor div_term. The forward method computes the positional encoding by adding the stored positional encoding values to the input tensor, allowing the model to capture the position information of the input sequence.Now, we’ll build the Encoder and Decoder layers."
   ]
  },
  {
   "cell_type": "markdown",
   "id": "f7a1d1f6-8bc1-4f6d-90c1-2ea0e2b05719",
   "metadata": {},
   "source": [
    "Now, we’ll build the Encoder and Decoder layers."
   ]
  },
  {
   "cell_type": "markdown",
   "id": "bddd73e4-a7f3-42c2-b1bf-046cb290f591",
   "metadata": {},
   "source": [
    "## Encoder Layer"
   ]
  },
  {
   "cell_type": "markdown",
   "id": "f905efbf-f63b-4539-977e-6cefe88502f9",
   "metadata": {},
   "source": [
    "<img src=\"https://miro.medium.com/v2/resize:fit:552/format:webp/0*bPKV4ekQr9ZjYkWJ.png\" />"
   ]
  },
  {
   "cell_type": "markdown",
   "id": "dcbfac8d-9b40-4f64-a7c5-1703a5355260",
   "metadata": {},
   "source": [
    "An Encoder layer consists of a Multi-Head Attention layer, a Position-wise Feed-Forward layer, and two Layer Normalization layers."
   ]
  },
  {
   "cell_type": "code",
   "execution_count": 16,
   "id": "79c7229a-7641-4cc2-998f-7312e907ecf9",
   "metadata": {},
   "outputs": [],
   "source": [
    "class EncoderLayer(nn.Module):\n",
    "    def __init__(self, d_model, num_heads, d_ff, dropout):\n",
    "        super(EncoderLayer, self).__init__()\n",
    "        self.self_attn = MultiHeadAttention(d_model, num_heads)\n",
    "        self.feed_forward = PositionWiseFeedForward(d_model, d_ff)\n",
    "        self.norm1 = nn.LayerNorm(d_model)\n",
    "        self.norm2 = nn.LayerNorm(d_model)\n",
    "        self.dropout = nn.Dropout(dropout)\n",
    "        \n",
    "    def forward(self, x, mask):\n",
    "        attn_output = self.self_attn(x, x, x, mask)\n",
    "        x = self.norm1(x + self.dropout(attn_output))\n",
    "        ff_output = self.feed_forward(x)\n",
    "        x = self.norm2(x + self.dropout(ff_output))\n",
    "        return x"
   ]
  },
  {
   "cell_type": "markdown",
   "id": "a45eb0f8-474c-48c7-9b90-06dd19faad8f",
   "metadata": {},
   "source": [
    "The EncoderLayer class initializes with input parameters and components, including a MultiHeadAttention module, a PositionWiseFeedForward module, two layer normalization modules, and a dropout layer. The forward methods computes the encoder layer output by applying self-attention, adding the attention output to the input tensor, and normalizing the result. Then, it computes the position-wise feed-forward output, combines it with the normalized self-attention output, and normalizes the final result before returning the processed tensor."
   ]
  },
  {
   "cell_type": "markdown",
   "id": "79119efd-6eb5-4655-853f-c4cc71070a17",
   "metadata": {},
   "source": [
    "## Decoder Layer"
   ]
  },
  {
   "cell_type": "markdown",
   "id": "33cee434-4256-4d6e-990d-e91df4aee8b3",
   "metadata": {},
   "source": [
    "<img src=\"https://miro.medium.com/v2/resize:fit:552/format:webp/0*SPZgT4k8GQi37H__.png\" />"
   ]
  },
  {
   "cell_type": "markdown",
   "id": "c7eee5c5-b49f-4fc6-8500-dbf4fc99749e",
   "metadata": {},
   "source": [
    "A Decoder layer consists of two Multi-Head Attention layers, a Position-wise Feed-Forward layer, and three Layer Normalization layers."
   ]
  },
  {
   "cell_type": "code",
   "execution_count": 17,
   "id": "9a8a6050-5bfe-46bf-843c-6b1d040218b3",
   "metadata": {},
   "outputs": [],
   "source": [
    "class DecoderLayer(nn.Module):\n",
    "    def __init__(self, d_model, num_heads, d_ff, dropout):\n",
    "        super(DecoderLayer, self).__init__()\n",
    "        self.self_attn = MultiHeadAttention(d_model, num_heads)\n",
    "        self.cross_attn = MultiHeadAttention(d_model, num_heads)\n",
    "        self.feed_forward = PositionWiseFeedForward(d_model, d_ff)\n",
    "        self.norm1 = nn.LayerNorm(d_model)\n",
    "        self.norm2 = nn.LayerNorm(d_model)\n",
    "        self.norm3 = nn.LayerNorm(d_model)\n",
    "        self.dropout = nn.Dropout(dropout)\n",
    "        \n",
    "    def forward(self, x, enc_output, src_mask, tgt_mask):\n",
    "        attn_output = self.self_attn(x, x, x, tgt_mask)\n",
    "        x = self.norm1(x + self.dropout(attn_output))\n",
    "        attn_output = self.cross_attn(x, enc_output, enc_output, src_mask)\n",
    "        x = self.norm2(x + self.dropout(attn_output))\n",
    "        ff_output = self.feed_forward(x)\n",
    "        x = self.norm3(x + self.dropout(ff_output))\n",
    "        return x"
   ]
  },
  {
   "cell_type": "markdown",
   "id": "82a8d084-75d5-4d9f-bc72-701f1f88e5f7",
   "metadata": {},
   "source": [
    "The DecoderLayer initializes with input parameters and components such as MultiHeadAttention modules for masked self-attention and cross-attention, a PositionWiseFeedForward module, three layer normalization modules, and a dropout layer.\n",
    "\n",
    "The forward method computes the decoder layer output by performing the following steps:\n",
    "\n",
    "1. Calculate the masked self-attention output and add it to the input tensor, followed by dropout and layer normalization.\n",
    "2. Compute the cross-attention output between the decoder and encoder outputs, and add it to the normalized masked self-attention output, followed by dropout and layer normalization.\n",
    "3. Calculate the position-wise feed-forward output and combine it with the normalized cross-attention output, followed by dropout and layer normalization.\n",
    "4. Return the processed tensor.\n",
    "\n",
    "These operations enable the decoder to generate target sequences based on the input and the encoder output.\n",
    "\n",
    "Now, let’s combine the Encoder and Decoder layers to create the complete Transformer model."
   ]
  },
  {
   "cell_type": "markdown",
   "id": "297b6348-cb56-4691-93c4-9e03796bc89d",
   "metadata": {},
   "source": [
    "## Transformer Model"
   ]
  },
  {
   "cell_type": "markdown",
   "id": "4604b844-f8c4-4573-919e-47adeae653fc",
   "metadata": {},
   "source": [
    "<img src=\"https://miro.medium.com/v2/resize:fit:1090/format:webp/0*ljYs7oOlKC71SzSr.png\" />"
   ]
  },
  {
   "cell_type": "markdown",
   "id": "61679f11-4728-4422-88e2-8d2e6959d6dd",
   "metadata": {},
   "source": [
    "Merging it all together:"
   ]
  },
  {
   "cell_type": "code",
   "execution_count": 18,
   "id": "659c0afa-a68d-4898-9adf-d134a02264ee",
   "metadata": {},
   "outputs": [],
   "source": [
    "class Transformer(nn.Module):\n",
    "    def __init__(self, src_vocab_size, tgt_vocab_size, d_model, num_heads, num_layers, d_ff, max_seq_length, dropout):\n",
    "        super(Transformer, self).__init__()\n",
    "        self.encoder_embedding = nn.Embedding(src_vocab_size, d_model)\n",
    "        self.decoder_embedding = nn.Embedding(tgt_vocab_size, d_model)\n",
    "        self.positional_encoding = PositionalEncoding(d_model, max_seq_length)\n",
    "\n",
    "        self.encoder_layers = nn.ModuleList([EncoderLayer(d_model, num_heads, d_ff, dropout) for _ in range(num_layers)])\n",
    "        self.decoder_layers = nn.ModuleList([DecoderLayer(d_model, num_heads, d_ff, dropout) for _ in range(num_layers)])\n",
    "\n",
    "        self.fc = nn.Linear(d_model, tgt_vocab_size)\n",
    "        self.dropout = nn.Dropout(dropout)\n",
    "\n",
    "    def generate_mask(self, src, tgt):\n",
    "        src_mask = (src != 0).unsqueeze(1).unsqueeze(2)\n",
    "        tgt_mask = (tgt != 0).unsqueeze(1).unsqueeze(3)\n",
    "        seq_length = tgt.size(1)\n",
    "        nopeak_mask = (1 - torch.triu(torch.ones(1, seq_length, seq_length), diagonal=1)).bool()\n",
    "        tgt_mask = tgt_mask & nopeak_mask\n",
    "        return src_mask, tgt_mask\n",
    "\n",
    "    def forward(self, src, tgt):\n",
    "        src_mask, tgt_mask = self.generate_mask(src, tgt)\n",
    "        src_embedded = self.dropout(self.positional_encoding(self.encoder_embedding(src)))\n",
    "        tgt_embedded = self.dropout(self.positional_encoding(self.decoder_embedding(tgt)))\n",
    "\n",
    "        enc_output = src_embedded\n",
    "        for enc_layer in self.encoder_layers:\n",
    "            enc_output = enc_layer(enc_output, src_mask)\n",
    "\n",
    "        dec_output = tgt_embedded\n",
    "        for dec_layer in self.decoder_layers:\n",
    "            dec_output = dec_layer(dec_output, enc_output, src_mask, tgt_mask)\n",
    "\n",
    "        output = self.fc(dec_output)\n",
    "        return output"
   ]
  },
  {
   "cell_type": "markdown",
   "id": "656e998f-8062-4962-aecf-f9875550d5f8",
   "metadata": {},
   "source": [
    "The Transformer class combines the previously defined modules to create a complete Transformer model. During initialization, the Transformer module sets up input parameters and initializes various components, including embedding layers for source and target sequences, a PositionalEncoding module, EncoderLayer and DecoderLayer modules to create stacked layers, a linear layer for projecting decoder output, and a dropout layer.\n",
    "\n",
    "The generate_mask method creates binary masks for source and target sequences to ignore padding tokens and prevent the decoder from attending to future tokens. The forward method computes the Transformer model’s output through the following steps:\n",
    "\n",
    "1. Generate source and target masks using the generate_mask method.\n",
    "2. Compute source and target embeddings, and apply positional encoding and dropout.\n",
    "3. Process the source sequence through encoder layers, updating the enc_output tensor.\n",
    "4. Process the target sequence through decoder layers, using enc_output and masks, and updating the dec_output tensor.\n",
    "5. Apply the linear projection layer to the decoder output, obtaining output logits.\n",
    "\n",
    "These steps enable the Transformer model to process input sequences and generate output sequences based on the combined functionality of its components."
   ]
  },
  {
   "cell_type": "markdown",
   "id": "4fc2b8cb-1aef-4b10-86c8-02e4fd203862",
   "metadata": {},
   "source": [
    "## Preparing Sample Data"
   ]
  },
  {
   "cell_type": "markdown",
   "id": "7430dbaf-8b6b-4a16-a01b-e26bb24c26a3",
   "metadata": {},
   "source": [
    "In this example, we will create a toy dataset for demonstration purposes. In practice, you would use a larger dataset, preprocess the text, and create vocabulary mappings for source and target languages."
   ]
  },
  {
   "cell_type": "code",
   "execution_count": 19,
   "id": "b27a1375-cbb3-453b-a546-6fc961394d7c",
   "metadata": {},
   "outputs": [],
   "source": [
    "src_vocab_size = 5000\n",
    "tgt_vocab_size = 5000\n",
    "d_model = 512\n",
    "num_heads = 8\n",
    "num_layers = 6\n",
    "d_ff = 2048\n",
    "max_seq_length = 100\n",
    "dropout = 0.1\n",
    "\n",
    "transformer = Transformer(src_vocab_size, tgt_vocab_size, d_model, num_heads, num_layers, d_ff, max_seq_length, dropout)\n",
    "\n",
    "# Generate random sample data\n",
    "src_data = torch.randint(1, src_vocab_size, (64, max_seq_length))  # (batch_size, seq_length)\n",
    "tgt_data = torch.randint(1, tgt_vocab_size, (64, max_seq_length))  # (batch_size, seq_length)"
   ]
  },
  {
   "cell_type": "markdown",
   "id": "75db52f2-3314-4079-ba83-e67734c99622",
   "metadata": {},
   "source": [
    "## Training the Model"
   ]
  },
  {
   "cell_type": "markdown",
   "id": "5f66f382-4fae-4f95-88ba-577dde3509c2",
   "metadata": {},
   "source": [
    "Now we’ll train the model using the sample data. In practice, you would use a larger dataset and split it into training and validation sets."
   ]
  },
  {
   "cell_type": "code",
   "execution_count": 20,
   "id": "de961981-606a-49ee-bd26-37d23f5baa42",
   "metadata": {},
   "outputs": [
    {
     "name": "stdout",
     "output_type": "stream",
     "text": [
      "Epoch: 1, Loss: 8.688081741333008\n",
      "Epoch: 2, Loss: 8.553129196166992\n",
      "Epoch: 3, Loss: 8.481507301330566\n",
      "Epoch: 4, Loss: 8.43139362335205\n",
      "Epoch: 5, Loss: 8.376258850097656\n",
      "Epoch: 6, Loss: 8.308882713317871\n",
      "Epoch: 7, Loss: 8.233731269836426\n",
      "Epoch: 8, Loss: 8.151762008666992\n",
      "Epoch: 9, Loss: 8.072171211242676\n",
      "Epoch: 10, Loss: 7.986507415771484\n",
      "Epoch: 11, Loss: 7.913125514984131\n",
      "Epoch: 12, Loss: 7.831951141357422\n",
      "Epoch: 13, Loss: 7.748363971710205\n",
      "Epoch: 14, Loss: 7.6584625244140625\n",
      "Epoch: 15, Loss: 7.575552940368652\n",
      "Epoch: 16, Loss: 7.494941711425781\n",
      "Epoch: 17, Loss: 7.417383670806885\n",
      "Epoch: 18, Loss: 7.332031726837158\n",
      "Epoch: 19, Loss: 7.246819972991943\n",
      "Epoch: 20, Loss: 7.171048641204834\n",
      "Epoch: 21, Loss: 7.082834720611572\n",
      "Epoch: 22, Loss: 7.006663799285889\n",
      "Epoch: 23, Loss: 6.926688194274902\n",
      "Epoch: 24, Loss: 6.851902961730957\n",
      "Epoch: 25, Loss: 6.7757248878479\n",
      "Epoch: 26, Loss: 6.7058491706848145\n",
      "Epoch: 27, Loss: 6.638118743896484\n",
      "Epoch: 28, Loss: 6.567591667175293\n",
      "Epoch: 29, Loss: 6.487199306488037\n",
      "Epoch: 30, Loss: 6.415735721588135\n",
      "Epoch: 31, Loss: 6.347661972045898\n",
      "Epoch: 32, Loss: 6.279675006866455\n",
      "Epoch: 33, Loss: 6.216891288757324\n",
      "Epoch: 34, Loss: 6.147688388824463\n",
      "Epoch: 35, Loss: 6.074698448181152\n",
      "Epoch: 36, Loss: 6.011845588684082\n",
      "Epoch: 37, Loss: 5.9496684074401855\n",
      "Epoch: 38, Loss: 5.884369850158691\n",
      "Epoch: 39, Loss: 5.814722537994385\n",
      "Epoch: 40, Loss: 5.754190921783447\n",
      "Epoch: 41, Loss: 5.687407970428467\n",
      "Epoch: 42, Loss: 5.62959098815918\n",
      "Epoch: 43, Loss: 5.572811126708984\n",
      "Epoch: 44, Loss: 5.512914657592773\n",
      "Epoch: 45, Loss: 5.451261043548584\n",
      "Epoch: 46, Loss: 5.385509967803955\n",
      "Epoch: 47, Loss: 5.322944641113281\n",
      "Epoch: 48, Loss: 5.270440101623535\n",
      "Epoch: 49, Loss: 5.217228412628174\n",
      "Epoch: 50, Loss: 5.152029037475586\n",
      "Epoch: 51, Loss: 5.0942511558532715\n",
      "Epoch: 52, Loss: 5.044636249542236\n",
      "Epoch: 53, Loss: 4.9840216636657715\n",
      "Epoch: 54, Loss: 4.93153715133667\n",
      "Epoch: 55, Loss: 4.876258373260498\n",
      "Epoch: 56, Loss: 4.823862552642822\n",
      "Epoch: 57, Loss: 4.774363040924072\n",
      "Epoch: 58, Loss: 4.71699857711792\n",
      "Epoch: 59, Loss: 4.662081241607666\n",
      "Epoch: 60, Loss: 4.609923839569092\n",
      "Epoch: 61, Loss: 4.5565619468688965\n",
      "Epoch: 62, Loss: 4.501598358154297\n",
      "Epoch: 63, Loss: 4.447762966156006\n",
      "Epoch: 64, Loss: 4.399562358856201\n",
      "Epoch: 65, Loss: 4.349127769470215\n",
      "Epoch: 66, Loss: 4.300983905792236\n",
      "Epoch: 67, Loss: 4.250230312347412\n",
      "Epoch: 68, Loss: 4.190135478973389\n",
      "Epoch: 69, Loss: 4.152842044830322\n",
      "Epoch: 70, Loss: 4.102663040161133\n",
      "Epoch: 71, Loss: 4.0571393966674805\n",
      "Epoch: 72, Loss: 4.0028204917907715\n",
      "Epoch: 73, Loss: 3.9462766647338867\n",
      "Epoch: 74, Loss: 3.9050486087799072\n",
      "Epoch: 75, Loss: 3.8519015312194824\n",
      "Epoch: 76, Loss: 3.8002655506134033\n",
      "Epoch: 77, Loss: 3.756793975830078\n",
      "Epoch: 78, Loss: 3.7153351306915283\n",
      "Epoch: 79, Loss: 3.6678688526153564\n",
      "Epoch: 80, Loss: 3.6252949237823486\n",
      "Epoch: 81, Loss: 3.577326536178589\n",
      "Epoch: 82, Loss: 3.528432846069336\n",
      "Epoch: 83, Loss: 3.4843966960906982\n",
      "Epoch: 84, Loss: 3.439040422439575\n",
      "Epoch: 85, Loss: 3.3899779319763184\n",
      "Epoch: 86, Loss: 3.337799310684204\n",
      "Epoch: 87, Loss: 3.302058458328247\n",
      "Epoch: 88, Loss: 3.2546322345733643\n",
      "Epoch: 89, Loss: 3.214003324508667\n",
      "Epoch: 90, Loss: 3.1615726947784424\n",
      "Epoch: 91, Loss: 3.1201605796813965\n",
      "Epoch: 92, Loss: 3.074604034423828\n",
      "Epoch: 93, Loss: 3.024646282196045\n",
      "Epoch: 94, Loss: 2.9851088523864746\n",
      "Epoch: 95, Loss: 2.947761297225952\n",
      "Epoch: 96, Loss: 2.8984386920928955\n",
      "Epoch: 97, Loss: 2.861250638961792\n",
      "Epoch: 98, Loss: 2.815765142440796\n",
      "Epoch: 99, Loss: 2.771594524383545\n",
      "Epoch: 100, Loss: 2.7381327152252197\n"
     ]
    }
   ],
   "source": [
    "criterion = nn.CrossEntropyLoss(ignore_index=0)\n",
    "optimizer = optim.Adam(transformer.parameters(), lr=0.0001, betas=(0.9, 0.98), eps=1e-9)\n",
    "\n",
    "transformer.train()\n",
    "\n",
    "for epoch in range(100):\n",
    "    optimizer.zero_grad()\n",
    "    output = transformer(src_data, tgt_data[:, :-1])\n",
    "    loss = criterion(output.contiguous().view(-1, tgt_vocab_size), tgt_data[:, 1:].contiguous().view(-1))\n",
    "    loss.backward()\n",
    "    optimizer.step()\n",
    "    print(f\"Epoch: {epoch+1}, Loss: {loss.item()}\")"
   ]
  },
  {
   "cell_type": "markdown",
   "id": "547901da-d456-49d6-a9ac-b79a907d2580",
   "metadata": {},
   "source": [
    "We can use this way to build a simple Transformer from scratch in Pytorch. All Large Language Models use these Transformer encoder or decoder blocks for training. Hence understanding the network that started it all is extremely important. Hope this article helps all looking to deep dive into LLM’s."
   ]
  },
  {
   "cell_type": "code",
   "execution_count": null,
   "id": "39c141fb-7f28-4340-8f04-b09c2a4a5a71",
   "metadata": {},
   "outputs": [],
   "source": []
  }
 ],
 "metadata": {
  "kernelspec": {
   "display_name": "Python 3 (ipykernel)",
   "language": "python",
   "name": "python3"
  },
  "language_info": {
   "codemirror_mode": {
    "name": "ipython",
    "version": 3
   },
   "file_extension": ".py",
   "mimetype": "text/x-python",
   "name": "python",
   "nbconvert_exporter": "python",
   "pygments_lexer": "ipython3",
   "version": "3.12.3"
  }
 },
 "nbformat": 4,
 "nbformat_minor": 5
}
